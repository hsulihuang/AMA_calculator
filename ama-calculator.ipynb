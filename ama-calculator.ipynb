{
 "cells": [
  {
   "cell_type": "markdown",
   "id": "5c8f327d",
   "metadata": {},
   "source": [
    "## Settings"
   ]
  },
  {
   "cell_type": "code",
   "execution_count": 1,
   "id": "fd269a64",
   "metadata": {},
   "outputs": [
    {
     "data": {
      "text/plain": [
       "'/Users/hsulihuang/programming/py/AMA'"
      ]
     },
     "execution_count": 1,
     "metadata": {},
     "output_type": "execute_result"
    }
   ],
   "source": [
    "# Get current working directory\n",
    "import os\n",
    "os.getcwd()"
   ]
  },
  {
   "cell_type": "code",
   "execution_count": 2,
   "id": "1c6c6d34",
   "metadata": {},
   "outputs": [],
   "source": [
    "# Import Modules\n",
    "import pandas as pd\n",
    "import numpy as np"
   ]
  },
  {
   "cell_type": "code",
   "execution_count": 7,
   "id": "34388e52",
   "metadata": {},
   "outputs": [
    {
     "name": "stdout",
     "output_type": "stream",
     "text": [
      "Current working directory: /Users/hsulihuang/programming/py/AMA\n",
      "Files in current directory: ['tables', 'app.yaml', '.DS_Store', 'requirements.txt', 'ama-calculator.ipynb', 'templates', '.ipynb_checkpoints', 'main.py', 'main.bk.py']\n",
      "Files in tables directory: ['table41.csv', 'table51.csv', 'table21.csv', 'table22.csv', 'table23.csv', 'table62.csv', 'table61.csv']\n",
      "Files in templates directory: ['index.html', 'index.bk.html']\n"
     ]
    }
   ],
   "source": [
    "import os\n",
    "print(\"Current working directory:\", os.getcwd())\n",
    "print(\"Files in current directory:\", os.listdir('.'))\n",
    "print(\"Files in tables directory:\", os.listdir('tables'))\n",
    "print(\"Files in templates directory:\", os.listdir('templates'))\n"
   ]
  },
  {
   "cell_type": "code",
   "execution_count": 9,
   "id": "f69d9935",
   "metadata": {},
   "outputs": [],
   "source": [
    "# Import Tables\n",
    "table21 = pd.read_csv('tables/table21.csv', sep=',')\n",
    "table22 = pd.read_csv('tables/table22.csv', sep=',')\n",
    "table23 = pd.read_csv('tables/table23.csv', sep=',')\n",
    "table41 = pd.read_csv('tables/table41.csv', sep=',')\n",
    "table51 = pd.read_csv('tables/table51.csv', sep=',')\n",
    "table61 = pd.read_csv('tables/table61.csv', sep=',')\n",
    "table62 = pd.read_csv('tables/table62.csv', sep=',')"
   ]
  },
  {
   "cell_type": "code",
   "execution_count": 4,
   "id": "c45af888",
   "metadata": {},
   "outputs": [],
   "source": [
    "# Inputs\n",
    "impairment_standard = 20\n",
    "impairment_number = '16.04.01.00'\n",
    "occupational_group = 240\n",
    "age = 45"
   ]
  },
  {
   "cell_type": "markdown",
   "id": "e6a9c171",
   "metadata": {},
   "source": [
    "## Step-by-step Calculator for California Adjustment"
   ]
  },
  {
   "cell_type": "code",
   "execution_count": 5,
   "id": "190cbe74",
   "metadata": {},
   "outputs": [
    {
     "name": "stdout",
     "output_type": "stream",
     "text": [
      "The FEC Rank for Impairment Number 16.04.01.00 is 4.\n"
     ]
    }
   ],
   "source": [
    "# Step 01\n",
    "# Find the FEC Rank for the given Impairment Number\n",
    "FEC_rank = table22.loc[table22['Impairment Number'] == str(impairment_number), 'Rank'].values[0]\n",
    "\n",
    "# Output the FEC Rank\n",
    "print(f\"The FEC Rank for Impairment Number {impairment_number} is {FEC_rank}.\")"
   ]
  },
  {
   "cell_type": "code",
   "execution_count": 6,
   "id": "b44ca0a4",
   "metadata": {},
   "outputs": [
    {
     "name": "stdout",
     "output_type": "stream",
     "text": [
      "The FEC Adjustment for Impairment Standard 20 and FEC Rank 4 is 25.\n"
     ]
    }
   ],
   "source": [
    "# Step 02\n",
    "# Find the FEC Adjustment for the given Impairment Standard and FEC Rank\n",
    "\n",
    "# Create a DataFrame\n",
    "df = pd.DataFrame(table23)\n",
    "\n",
    "# Set the FEC Rank as the index for easy lookup\n",
    "df.set_index('FEC Rank', inplace=True)\n",
    "\n",
    "# Find the value for the given Impairment Standard and FEC Rank\n",
    "FEC_adjustment = df.loc[FEC_rank, str(impairment_standard)]\n",
    "\n",
    "# Output the result\n",
    "print(f\"The FEC Adjustment for Impairment Standard {impairment_standard} and FEC Rank {FEC_rank} is {FEC_adjustment}.\")"
   ]
  },
  {
   "cell_type": "code",
   "execution_count": 7,
   "id": "8f0c2eee",
   "metadata": {},
   "outputs": [
    {
     "name": "stdout",
     "output_type": "stream",
     "text": [
      "The Occupational Variant for Impairment Number 16.04.01.00 and occupational group 240 is E.\n"
     ]
    }
   ],
   "source": [
    "# Step 03\n",
    "# Find the Occupational Variant for the given Impairment Number and Occupational Group\n",
    "\n",
    "# Create a DataFrame\n",
    "df = pd.DataFrame(table41)\n",
    "\n",
    "# Set the Impairment Number as the index for easy lookup\n",
    "df.set_index('Impairment Number', inplace=True)\n",
    "\n",
    "# Find the value for the given Impairment Number and Occupational Group\n",
    "occupational_variant = df.loc[impairment_number, str(occupational_group)]\n",
    "\n",
    "# Output the result\n",
    "print(f\"The Occupational Variant for Impairment Number {impairment_number} and occupational group {occupational_group} is {occupational_variant}.\")"
   ]
  },
  {
   "cell_type": "code",
   "execution_count": 8,
   "id": "b1acc2b3",
   "metadata": {},
   "outputs": [
    {
     "name": "stdout",
     "output_type": "stream",
     "text": [
      "The Occupational Adjustment for FEC Adjustment 25 and Occupational Variant E is 23.\n"
     ]
    }
   ],
   "source": [
    "# Step 04\n",
    "# Find the Occupational Adjustment for the given FEC Adjustment and Occupational Variant\n",
    "\n",
    "# Create a DataFrame\n",
    "df = pd.DataFrame(table51)\n",
    "\n",
    "# Set the Occupational Variant as the index for easy lookup\n",
    "df.set_index('Occupational Variant', inplace=True)\n",
    "\n",
    "# Find the value for the given FEC Adjustment and Occupational Variant\n",
    "occupational_adjustment = df.loc[occupational_variant, str(FEC_adjustment)]\n",
    "\n",
    "# Output the result\n",
    "print(f\"The Occupational Adjustment for FEC Adjustment {FEC_adjustment} and Occupational Variant {occupational_variant} is {occupational_adjustment}.\")"
   ]
  },
  {
   "cell_type": "code",
   "execution_count": 9,
   "id": "736f23a2",
   "metadata": {},
   "outputs": [
    {
     "name": "stdout",
     "output_type": "stream",
     "text": [
      "The age group for age 45 is age5.\n"
     ]
    }
   ],
   "source": [
    "# Step 05\n",
    "# Find the Age Group for the given Age\n",
    "\n",
    "# Create a DataFrame\n",
    "df = pd.DataFrame(table61)\n",
    "\n",
    "# Function to get age group\n",
    "def get_age_group(age):\n",
    "    result = df.loc[df['Age'] == age, 'Age Group']\n",
    "    return result.values[0] if not result.empty else \"Age not found\"\n",
    "\n",
    "# Find the value for the given Age\n",
    "age_group = get_age_group(age)\n",
    "\n",
    "# Output the result\n",
    "print(f\"The age group for age {age} is {age_group}.\")"
   ]
  },
  {
   "cell_type": "code",
   "execution_count": 10,
   "id": "29e96b66",
   "metadata": {},
   "outputs": [
    {
     "name": "stdout",
     "output_type": "stream",
     "text": [
      "The Age Adjustment for Occupational Adjustment 23 and Age Group age5 is 24.\n"
     ]
    }
   ],
   "source": [
    "# Step 06\n",
    "# Find the Age Adjustment for the given Occupational Adjustment and Age Group\n",
    "\n",
    "# Create a DataFrame\n",
    "df = pd.DataFrame(table62)\n",
    "\n",
    "# Set the Age Group as the index for easy lookup\n",
    "df.set_index('Age Group', inplace=True)\n",
    "\n",
    "# Find the value for the given Occupational Adjustment and Age Group\n",
    "age_adjustment = df.loc[age_group, str(occupational_adjustment)]\n",
    "\n",
    "# Output the result\n",
    "print(f\"The Age Adjustment for Occupational Adjustment {occupational_adjustment} and Age Group {age_group} is {age_adjustment}.\")"
   ]
  },
  {
   "cell_type": "markdown",
   "id": "a7d6f706",
   "metadata": {},
   "source": [
    "## Integrated Calculator for California Adjustment"
   ]
  },
  {
   "cell_type": "code",
   "execution_count": 14,
   "id": "f3265f12",
   "metadata": {},
   "outputs": [],
   "source": [
    "# To combine all the above steps into a single function with the four input variables \n",
    "\n",
    "import pandas as pd\n",
    "\n",
    "def california_adjustment(impairment_standard, impairment_number, occupational_group, age):\n",
    "    # Step 01: Find the FEC Rank for the given Impairment Number\n",
    "    FEC_rank = table22.loc[table22['Impairment Number'] == str(impairment_number), 'Rank'].values[0]\n",
    "    \n",
    "    # Step 02: Find the FEC Adjustment for the given Impairment Standard and FEC Rank\n",
    "    df_fec_adjustment = pd.DataFrame(table23)\n",
    "    df_fec_adjustment.set_index('FEC Rank', inplace=True)\n",
    "    FEC_adjustment = df_fec_adjustment.loc[FEC_rank, str(impairment_standard)]\n",
    "    \n",
    "    # Step 03: Find the Occupational Variant for the given Impairment Number and Occupational Group\n",
    "    df_occupational_variant = pd.DataFrame(table41)\n",
    "    df_occupational_variant.set_index('Impairment Number', inplace=True)\n",
    "    occupational_variant = df_occupational_variant.loc[impairment_number, str(occupational_group)]\n",
    "    \n",
    "    # Step 04: Find the Occupational Adjustment for the given FEC Adjustment and Occupational Variant\n",
    "    df_occupational_adjustment = pd.DataFrame(table51)\n",
    "    df_occupational_adjustment.set_index('Occupational Variant', inplace=True)\n",
    "    occupational_adjustment = df_occupational_adjustment.loc[occupational_variant, str(FEC_adjustment)]\n",
    "    \n",
    "    # Step 05: Find the Age Group for the given Age\n",
    "    df_age_group = pd.DataFrame(table61)\n",
    "    \n",
    "    def get_age_group(age):\n",
    "        result = df_age_group.loc[df_age_group['Age'] == age, 'Age Group']\n",
    "        return result.values[0] if not result.empty else \"Age not found\"\n",
    "    \n",
    "    age_group = get_age_group(age)\n",
    "    \n",
    "    # Step 06: Find the Age Adjustment for the given Occupational Adjustment and Age Group\n",
    "    df_age_adjustment = pd.DataFrame(table62)\n",
    "    df_age_adjustment.set_index('Age Group', inplace=True)\n",
    "    age_adjustment = df_age_adjustment.loc[age_group, str(occupational_adjustment)]\n",
    "    \n",
    "    # Output the final result\n",
    "    return age_adjustment\n",
    "\n",
    "# Example usage:\n",
    "# APDR = california_adjustment(impairment_standard=5, impairment_number='03.05.00.00', occupational_group=220, age=35)\n",
    "# print(f\"The Adjusted Permanent Disability Rating is {APDR}.\")\n"
   ]
  },
  {
   "cell_type": "code",
   "execution_count": 20,
   "id": "76555a83",
   "metadata": {},
   "outputs": [
    {
     "name": "stdout",
     "output_type": "stream",
     "text": [
      "The Adjusted Permanent Disability Rating is 24.\n"
     ]
    }
   ],
   "source": [
    "# Example:\n",
    "impairment_standard = 20\n",
    "impairment_number = '16.04.01.00'\n",
    "occupational_group = 240\n",
    "age = 45\n",
    "\n",
    "APDR = california_adjustment(impairment_standard, impairment_number, occupational_group, age)\n",
    "print(f\"The Adjusted Permanent Disability Rating is {APDR}.\")"
   ]
  },
  {
   "cell_type": "markdown",
   "id": "043a9e5c",
   "metadata": {},
   "source": [
    "## Calculator for AMA Impairment Combination"
   ]
  },
  {
   "cell_type": "code",
   "execution_count": 21,
   "id": "1b99d7e3",
   "metadata": {},
   "outputs": [
    {
     "name": "stdout",
     "output_type": "stream",
     "text": [
      "The Overall Permanent Disability Rating is: 71%\n"
     ]
    }
   ],
   "source": [
    "# Combine multiple Age Adjustments as the Overall Permanent Disability Rating\n",
    "\n",
    "# Step 1: Define the list of numbers\n",
    "numbers = [30, 20, 5, 40, 10]\n",
    "\n",
    "# Step 2: Reorder the numbers from largest to smallest\n",
    "numbers.sort(reverse=True)\n",
    "\n",
    "# Step 3: Divide all numbers by 100\n",
    "numbers = [num / 100 for num in numbers]\n",
    "\n",
    "# Step 4: Define the formula A + B - A * B\n",
    "def combine(a, b):\n",
    "    return a + b - a * b\n",
    "\n",
    "# Step 5: Combine the numbers until only one is left\n",
    "while len(numbers) > 1:\n",
    "    # Combine the first two elements using the formula\n",
    "    combined_value = combine(numbers[0], numbers[1])\n",
    "    # Replace the first two elements with the combined value\n",
    "    numbers = [combined_value] + numbers[2:]\n",
    "\n",
    "# The final number after all combinations\n",
    "result = round(numbers[0] * 100)\n",
    "\n",
    "print(f\"The Overall Permanent Disability Rating is: {result}%\")"
   ]
  },
  {
   "cell_type": "markdown",
   "id": "de7ce36e",
   "metadata": {},
   "source": [
    "## Storehouse"
   ]
  },
  {
   "cell_type": "code",
   "execution_count": 12,
   "id": "feb3dec2",
   "metadata": {},
   "outputs": [
    {
     "ename": "SyntaxError",
     "evalue": "invalid character '–' (U+2013) (386326167.py, line 11)",
     "output_type": "error",
     "traceback": [
      "\u001b[0;36m  Cell \u001b[0;32mIn [12], line 11\u001b[0;36m\u001b[0m\n\u001b[0;31m    15.01.02.02 – Impairment number\u001b[0m\n\u001b[0m                ^\u001b[0m\n\u001b[0;31mSyntaxError\u001b[0m\u001b[0;31m:\u001b[0m invalid character '–' (U+2013)\n"
     ]
    }
   ],
   "source": [
    "Impairment Standard\n",
    "FEC adjustment\n",
    "Occupational Group\n",
    "Occupational Variant\n",
    "Occupational Adjustment\n",
    "Age Adjustment\n",
    "Permanent Disability\n",
    "\n",
    "Overall Permanent Disability Rating\n",
    "\n",
    "15.01.02.02 – Impairment number \n",
    "8% – Impairment standard\n",
    "10% – Rating after adjustment for earning capacity based on FEC rank 5\n",
    "470 – Occupational group number for Furniture assembler, heavy\n",
    "H – Occupational variant\n",
    "13% – Rating after occupational adjustment\n",
    "11% – Rating after adjustment for age of 30"
   ]
  },
  {
   "cell_type": "code",
   "execution_count": null,
   "id": "d93a3fab",
   "metadata": {},
   "outputs": [],
   "source": []
  }
 ],
 "metadata": {
  "kernelspec": {
   "display_name": "Python 3 (ipykernel)",
   "language": "python",
   "name": "python3"
  },
  "language_info": {
   "codemirror_mode": {
    "name": "ipython",
    "version": 3
   },
   "file_extension": ".py",
   "mimetype": "text/x-python",
   "name": "python",
   "nbconvert_exporter": "python",
   "pygments_lexer": "ipython3",
   "version": "3.10.8"
  }
 },
 "nbformat": 4,
 "nbformat_minor": 5
}
