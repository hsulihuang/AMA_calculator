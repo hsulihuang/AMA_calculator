{
 "cells": [
  {
   "cell_type": "code",
   "execution_count": 126,
   "id": "fd269a64",
   "metadata": {},
   "outputs": [
    {
     "data": {
      "text/plain": [
       "'/Users/hsulihuang/programming/py/AMA'"
      ]
     },
     "execution_count": 126,
     "metadata": {},
     "output_type": "execute_result"
    }
   ],
   "source": [
    "# Get current working directory\n",
    "import os\n",
    "os.getcwd()"
   ]
  },
  {
   "cell_type": "code",
   "execution_count": 127,
   "id": "1c6c6d34",
   "metadata": {},
   "outputs": [],
   "source": [
    "# Import Modules\n",
    "import pandas as pd\n",
    "import numpy as np\n",
    "from sklearn import *"
   ]
  },
  {
   "cell_type": "code",
   "execution_count": 128,
   "id": "f69d9935",
   "metadata": {},
   "outputs": [],
   "source": [
    "# Import Tables\n",
    "table21 = pd.read_csv('table21.csv', sep=',')\n",
    "table22 = pd.read_csv('table22.csv', sep=',')\n",
    "table23 = pd.read_csv('table23.csv', sep=',')\n",
    "table41 = pd.read_csv('table41.csv', sep=',')\n",
    "table51 = pd.read_csv('table51.csv', sep=',')\n",
    "table61 = pd.read_csv('table61.csv', sep=',')\n",
    "table62 = pd.read_csv('table62.csv', sep=',')"
   ]
  },
  {
   "cell_type": "code",
   "execution_count": 129,
   "id": "79642969",
   "metadata": {},
   "outputs": [],
   "source": [
    "# Inputs\n",
    "impairment_standard = 20\n",
    "impairment_number = '16.04.01.00'\n",
    "occupational_group = 240\n",
    "age = 45"
   ]
  },
  {
   "cell_type": "code",
   "execution_count": 130,
   "id": "46e87b01",
   "metadata": {},
   "outputs": [
    {
     "name": "stdout",
     "output_type": "stream",
     "text": [
      "The FEC Rank for Impairment Number 16.04.01.00 is 4.\n"
     ]
    }
   ],
   "source": [
    "# Step 01\n",
    "# Find the FEC Rank for the given Impairment Number\n",
    "FEC_rank = table22.loc[table22['Impairment Number'] == str(impairment_number), 'Rank'].values[0]\n",
    "\n",
    "# Output the FEC Rank\n",
    "print(f\"The FEC Rank for Impairment Number {impairment_number} is {FEC_rank}.\")"
   ]
  },
  {
   "cell_type": "code",
   "execution_count": 131,
   "id": "c332e672",
   "metadata": {},
   "outputs": [
    {
     "name": "stdout",
     "output_type": "stream",
     "text": [
      "The FEC Adjustment for Impairment Standard 20 and FEC Rank 4 is 25.\n"
     ]
    }
   ],
   "source": [
    "# Step 02\n",
    "# Find the FEC Adjustment for the given Impairment Standard and FEC Rank\n",
    "\n",
    "# Create a DataFrame\n",
    "df = pd.DataFrame(table23)\n",
    "\n",
    "# Set the FEC Rank as the index for easy lookup\n",
    "df.set_index('FEC Rank', inplace=True)\n",
    "\n",
    "# Find the value for the given Impairment Standard and FEC Rank\n",
    "FEC_adjustment = df.loc[FEC_rank, str(impairment_standard)]\n",
    "\n",
    "# Output the result\n",
    "print(f\"The FEC Adjustment for Impairment Standard {impairment_standard} and FEC Rank {FEC_rank} is {FEC_adjustment}.\")"
   ]
  },
  {
   "cell_type": "code",
   "execution_count": 132,
   "id": "64c6bda5",
   "metadata": {},
   "outputs": [
    {
     "name": "stdout",
     "output_type": "stream",
     "text": [
      "The Occupational Variant for Impairment Number 16.04.01.00 and occupational group 240 is E.\n"
     ]
    }
   ],
   "source": [
    "# Step 03\n",
    "# Find the Occupational Variant for the given Impairment Number and Occupational Group\n",
    "\n",
    "# Create a DataFrame\n",
    "df = pd.DataFrame(table41)\n",
    "\n",
    "# Set the Impairment Number as the index for easy lookup\n",
    "df.set_index('Impairment Number', inplace=True)\n",
    "\n",
    "# Find the value for the given Impairment Number and Occupational Group\n",
    "occupational_variant = df.loc[impairment_number, str(occupational_group)]\n",
    "\n",
    "# Output the result\n",
    "print(f\"The Occupational Variant for Impairment Number {impairment_number} and occupational group {occupational_group} is {occupational_variant}.\")"
   ]
  },
  {
   "cell_type": "code",
   "execution_count": 133,
   "id": "4d32f6ea",
   "metadata": {},
   "outputs": [
    {
     "name": "stdout",
     "output_type": "stream",
     "text": [
      "The Occupational Adjustment for FEC Adjustment 25 and Occupational Variant E is 23.\n"
     ]
    }
   ],
   "source": [
    "# Step 04\n",
    "# Find the Occupational Adjustment for the given FEC Adjustment and Occupational Variant\n",
    "\n",
    "# Create a DataFrame\n",
    "df = pd.DataFrame(table51)\n",
    "\n",
    "# Set the Occupational Variant as the index for easy lookup\n",
    "df.set_index('Occupational Variant', inplace=True)\n",
    "\n",
    "# Find the value for the given FEC Adjustment and Occupational Variant\n",
    "occupational_adjustment = df.loc[occupational_variant, str(FEC_adjustment)]\n",
    "\n",
    "# Output the result\n",
    "print(f\"The Occupational Adjustment for FEC Adjustment {FEC_adjustment} and Occupational Variant {occupational_variant} is {occupational_adjustment}.\")"
   ]
  },
  {
   "cell_type": "code",
   "execution_count": 134,
   "id": "e25b9161",
   "metadata": {},
   "outputs": [
    {
     "name": "stdout",
     "output_type": "stream",
     "text": [
      "The age group for age 45 is age5.\n"
     ]
    }
   ],
   "source": [
    "# Step 05\n",
    "# Find the Age Group for the given Age\n",
    "\n",
    "# Create a DataFrame\n",
    "df = pd.DataFrame(table61)\n",
    "\n",
    "# Function to get age group\n",
    "def get_age_group(age):\n",
    "    result = df.loc[df['Age'] == age, 'Age Group']\n",
    "    return result.values[0] if not result.empty else \"Age not found\"\n",
    "\n",
    "# Find the value for the given Age\n",
    "age_group = get_age_group(age)\n",
    "\n",
    "# Output the result\n",
    "print(f\"The age group for age {age} is {age_group}.\")"
   ]
  },
  {
   "cell_type": "code",
   "execution_count": 135,
   "id": "3ee68dc6",
   "metadata": {},
   "outputs": [
    {
     "name": "stdout",
     "output_type": "stream",
     "text": [
      "The Age Adjustment for Occupational Adjustment 23 and Age Group age5 is 24.\n"
     ]
    }
   ],
   "source": [
    "# Step 06\n",
    "# Find the Age Adjustment for the given Occupational Adjustment and Age Group\n",
    "\n",
    "# Create a DataFrame\n",
    "df = pd.DataFrame(table62)\n",
    "\n",
    "# Set the Age Group as the index for easy lookup\n",
    "df.set_index('Age Group', inplace=True)\n",
    "\n",
    "# Find the value for the given Occupational Adjustment and Age Group\n",
    "age_adjustment = df.loc[age_group, str(occupational_adjustment)]\n",
    "\n",
    "# Output the result\n",
    "print(f\"The Age Adjustment for Occupational Adjustment {occupational_adjustment} and Age Group {age_group} is {age_adjustment}.\")"
   ]
  },
  {
   "cell_type": "code",
   "execution_count": 136,
   "id": "1ea79199",
   "metadata": {},
   "outputs": [
    {
     "name": "stdout",
     "output_type": "stream",
     "text": [
      "The Overall Permanent Disability Rating is: 71%\n"
     ]
    }
   ],
   "source": [
    "# Step 07\n",
    "# Combine multiple Age Adjustments as the Overall Permanent Disability Rating\n",
    "\n",
    "# Step 1: Define the list of numbers\n",
    "numbers = [30, 20, 5, 40, 10]\n",
    "\n",
    "# Step 2: Reorder the numbers from largest to smallest\n",
    "numbers.sort(reverse=True)\n",
    "\n",
    "# Step 3: Divide all numbers by 100\n",
    "numbers = [num / 100 for num in numbers]\n",
    "\n",
    "# Step 4: Define the formula A + B - A * B\n",
    "def combine(a, b):\n",
    "    return a + b - a * b\n",
    "\n",
    "# Step 5: Combine the numbers until only one is left\n",
    "while len(numbers) > 1:\n",
    "    # Combine the first two elements using the formula\n",
    "    combined_value = combine(numbers[0], numbers[1])\n",
    "    # Replace the first two elements with the combined value\n",
    "    numbers = [combined_value] + numbers[2:]\n",
    "\n",
    "# The final number after all combinations\n",
    "result = round(numbers[0] * 100)\n",
    "\n",
    "print(f\"The Overall Permanent Disability Rating is: {result}%\")"
   ]
  },
  {
   "cell_type": "code",
   "execution_count": null,
   "id": "f66690ec",
   "metadata": {},
   "outputs": [],
   "source": [
    "Impairment Standard\n",
    "FEC adjustment\n",
    "Occupational Group\n",
    "Occupational Variant\n",
    "Occupational Adjustment\n",
    "Age Adjustment\n",
    "Permanent Disability\n",
    "\n",
    "Overall Permanent Disability Rating\n",
    "\n",
    "15.01.02.02 – Impairment number \n",
    "8% – Impairment standard\n",
    "10% – Rating after adjustment for earning capacity based on FEC rank 5\n",
    "470 – Occupational group number for Furniture assembler, heavy\n",
    "H – Occupational variant\n",
    "13% – Rating after occupational adjustment\n",
    "11% – Rating after adjustment for age of 30"
   ]
  }
 ],
 "metadata": {
  "kernelspec": {
   "display_name": "Python 3 (ipykernel)",
   "language": "python",
   "name": "python3"
  },
  "language_info": {
   "codemirror_mode": {
    "name": "ipython",
    "version": 3
   },
   "file_extension": ".py",
   "mimetype": "text/x-python",
   "name": "python",
   "nbconvert_exporter": "python",
   "pygments_lexer": "ipython3",
   "version": "3.10.8"
  }
 },
 "nbformat": 4,
 "nbformat_minor": 5
}
